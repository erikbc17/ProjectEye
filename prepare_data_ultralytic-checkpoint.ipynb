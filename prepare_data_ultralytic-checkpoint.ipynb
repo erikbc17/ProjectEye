{
 "cells": [
  {
   "cell_type": "code",
   "execution_count": 1,
   "metadata": {},
   "outputs": [],
   "source": [
    "import os\n",
    "import sys\n",
    "import random\n",
    "import glob\n",
    "from tqdm import tqdm\n",
    "import xml.etree.ElementTree as ET\n",
    "\n",
    "import cv2 \n",
    "import shutil"
   ]
  },
  {
   "cell_type": "code",
   "execution_count": 2,
   "metadata": {},
   "outputs": [],
   "source": [
    "def Write_TXT(txt_file, data_list):\n",
    "    fd  = open(txt_file, 'w')\n",
    "    for data in data_list:\n",
    "        fd.write(data)\n",
    "        fd.write('\\n')\n",
    "    fd.close()\n",
    "\n",
    "def parse_xml(xml_path):\n",
    "    root = ET.parse(fn).getroot()\n",
    "    filename = root.find('filename').text \n",
    "    width  = float(root.find('size').find('width').text)\n",
    "    height = float(root.find('size').find('height').text)\n",
    "    \n",
    "    bboxs = []\n",
    "    for obj in root.findall('object'):\n",
    "        xmin = float(obj.find('bndbox').find('xmin').text)\n",
    "        ymin = float(obj.find('bndbox').find('ymin').text)\n",
    "        xmax = float(obj.find('bndbox').find('xmax').text)\n",
    "        ymax = float(obj.find('bndbox').find('ymax').text)\n",
    "        \n",
    "        xc = (xmin+xmax)/2/width \n",
    "        yc = float(ymin+ymax)/2/height \n",
    "        w  = (xmax-xmin)/width\n",
    "        h = (ymax-ymin)/height\n",
    "        \n",
    "        bboxs.append((xc,yc,w,h))\n",
    "\n",
    "    return bboxs\n"
   ]
  },
  {
   "cell_type": "code",
   "execution_count": 3,
   "metadata": {},
   "outputs": [
    {
     "ename": "FileNotFoundError",
     "evalue": "[Errno 2] No such file or directory: './detector/gun/train/Annotations/ia_100000004463.xml'",
     "output_type": "error",
     "traceback": [
      "\u001b[0;31m---------------------------------------------------------------------------\u001b[0m",
      "\u001b[0;31mFileNotFoundError\u001b[0m                         Traceback (most recent call last)",
      "\u001b[0;32m<ipython-input-3-c1fadbb9ed2c>\u001b[0m in \u001b[0;36m<module>\u001b[0;34m\u001b[0m\n\u001b[1;32m      4\u001b[0m \u001b[0;31m#img_fn =  filename.text\u001b[0m\u001b[0;34m\u001b[0m\u001b[0;34m\u001b[0m\u001b[0;34m\u001b[0m\u001b[0m\n\u001b[1;32m      5\u001b[0m \u001b[0;31m#print(img_fn)\u001b[0m\u001b[0;34m\u001b[0m\u001b[0;34m\u001b[0m\u001b[0;34m\u001b[0m\u001b[0m\n\u001b[0;32m----> 6\u001b[0;31m \u001b[0mbboxs\u001b[0m \u001b[0;34m=\u001b[0m \u001b[0mparse_xml\u001b[0m\u001b[0;34m(\u001b[0m\u001b[0mfn\u001b[0m\u001b[0;34m)\u001b[0m\u001b[0;34m\u001b[0m\u001b[0;34m\u001b[0m\u001b[0m\n\u001b[0m\u001b[1;32m      7\u001b[0m \u001b[0mprint\u001b[0m\u001b[0;34m(\u001b[0m\u001b[0mbboxs\u001b[0m\u001b[0;34m)\u001b[0m\u001b[0;34m\u001b[0m\u001b[0;34m\u001b[0m\u001b[0m\n",
      "\u001b[0;32m<ipython-input-2-f87ff81b7f02>\u001b[0m in \u001b[0;36mparse_xml\u001b[0;34m(xml_path)\u001b[0m\n\u001b[1;32m      7\u001b[0m \u001b[0;34m\u001b[0m\u001b[0m\n\u001b[1;32m      8\u001b[0m \u001b[0;32mdef\u001b[0m \u001b[0mparse_xml\u001b[0m\u001b[0;34m(\u001b[0m\u001b[0mxml_path\u001b[0m\u001b[0;34m)\u001b[0m\u001b[0;34m:\u001b[0m\u001b[0;34m\u001b[0m\u001b[0;34m\u001b[0m\u001b[0m\n\u001b[0;32m----> 9\u001b[0;31m     \u001b[0mroot\u001b[0m \u001b[0;34m=\u001b[0m \u001b[0mET\u001b[0m\u001b[0;34m.\u001b[0m\u001b[0mparse\u001b[0m\u001b[0;34m(\u001b[0m\u001b[0mfn\u001b[0m\u001b[0;34m)\u001b[0m\u001b[0;34m.\u001b[0m\u001b[0mgetroot\u001b[0m\u001b[0;34m(\u001b[0m\u001b[0;34m)\u001b[0m\u001b[0;34m\u001b[0m\u001b[0;34m\u001b[0m\u001b[0m\n\u001b[0m\u001b[1;32m     10\u001b[0m     \u001b[0mfilename\u001b[0m \u001b[0;34m=\u001b[0m \u001b[0mroot\u001b[0m\u001b[0;34m.\u001b[0m\u001b[0mfind\u001b[0m\u001b[0;34m(\u001b[0m\u001b[0;34m'filename'\u001b[0m\u001b[0;34m)\u001b[0m\u001b[0;34m.\u001b[0m\u001b[0mtext\u001b[0m\u001b[0;34m\u001b[0m\u001b[0;34m\u001b[0m\u001b[0m\n\u001b[1;32m     11\u001b[0m     \u001b[0mwidth\u001b[0m  \u001b[0;34m=\u001b[0m \u001b[0mfloat\u001b[0m\u001b[0;34m(\u001b[0m\u001b[0mroot\u001b[0m\u001b[0;34m.\u001b[0m\u001b[0mfind\u001b[0m\u001b[0;34m(\u001b[0m\u001b[0;34m'size'\u001b[0m\u001b[0;34m)\u001b[0m\u001b[0;34m.\u001b[0m\u001b[0mfind\u001b[0m\u001b[0;34m(\u001b[0m\u001b[0;34m'width'\u001b[0m\u001b[0;34m)\u001b[0m\u001b[0;34m.\u001b[0m\u001b[0mtext\u001b[0m\u001b[0;34m)\u001b[0m\u001b[0;34m\u001b[0m\u001b[0;34m\u001b[0m\u001b[0m\n",
      "\u001b[0;32m/media/ubuntu/MyHDataStor1/anaconda2/envs/pytorch/lib/python3.7/xml/etree/ElementTree.py\u001b[0m in \u001b[0;36mparse\u001b[0;34m(source, parser)\u001b[0m\n\u001b[1;32m   1195\u001b[0m     \"\"\"\n\u001b[1;32m   1196\u001b[0m     \u001b[0mtree\u001b[0m \u001b[0;34m=\u001b[0m \u001b[0mElementTree\u001b[0m\u001b[0;34m(\u001b[0m\u001b[0;34m)\u001b[0m\u001b[0;34m\u001b[0m\u001b[0;34m\u001b[0m\u001b[0m\n\u001b[0;32m-> 1197\u001b[0;31m     \u001b[0mtree\u001b[0m\u001b[0;34m.\u001b[0m\u001b[0mparse\u001b[0m\u001b[0;34m(\u001b[0m\u001b[0msource\u001b[0m\u001b[0;34m,\u001b[0m \u001b[0mparser\u001b[0m\u001b[0;34m)\u001b[0m\u001b[0;34m\u001b[0m\u001b[0;34m\u001b[0m\u001b[0m\n\u001b[0m\u001b[1;32m   1198\u001b[0m     \u001b[0;32mreturn\u001b[0m \u001b[0mtree\u001b[0m\u001b[0;34m\u001b[0m\u001b[0;34m\u001b[0m\u001b[0m\n\u001b[1;32m   1199\u001b[0m \u001b[0;34m\u001b[0m\u001b[0m\n",
      "\u001b[0;32m/media/ubuntu/MyHDataStor1/anaconda2/envs/pytorch/lib/python3.7/xml/etree/ElementTree.py\u001b[0m in \u001b[0;36mparse\u001b[0;34m(self, source, parser)\u001b[0m\n\u001b[1;32m    585\u001b[0m         \u001b[0mclose_source\u001b[0m \u001b[0;34m=\u001b[0m \u001b[0;32mFalse\u001b[0m\u001b[0;34m\u001b[0m\u001b[0;34m\u001b[0m\u001b[0m\n\u001b[1;32m    586\u001b[0m         \u001b[0;32mif\u001b[0m \u001b[0;32mnot\u001b[0m \u001b[0mhasattr\u001b[0m\u001b[0;34m(\u001b[0m\u001b[0msource\u001b[0m\u001b[0;34m,\u001b[0m \u001b[0;34m\"read\"\u001b[0m\u001b[0;34m)\u001b[0m\u001b[0;34m:\u001b[0m\u001b[0;34m\u001b[0m\u001b[0;34m\u001b[0m\u001b[0m\n\u001b[0;32m--> 587\u001b[0;31m             \u001b[0msource\u001b[0m \u001b[0;34m=\u001b[0m \u001b[0mopen\u001b[0m\u001b[0;34m(\u001b[0m\u001b[0msource\u001b[0m\u001b[0;34m,\u001b[0m \u001b[0;34m\"rb\"\u001b[0m\u001b[0;34m)\u001b[0m\u001b[0;34m\u001b[0m\u001b[0;34m\u001b[0m\u001b[0m\n\u001b[0m\u001b[1;32m    588\u001b[0m             \u001b[0mclose_source\u001b[0m \u001b[0;34m=\u001b[0m \u001b[0;32mTrue\u001b[0m\u001b[0;34m\u001b[0m\u001b[0;34m\u001b[0m\u001b[0m\n\u001b[1;32m    589\u001b[0m         \u001b[0;32mtry\u001b[0m\u001b[0;34m:\u001b[0m\u001b[0;34m\u001b[0m\u001b[0;34m\u001b[0m\u001b[0m\n",
      "\u001b[0;31mFileNotFoundError\u001b[0m: [Errno 2] No such file or directory: './detector/gun/train/Annotations/ia_100000004463.xml'"
     ]
    }
   ],
   "source": [
    "fn = './detector/gun/train/Annotations/ia_100000004463.xml'\n",
    "#root = ET.parse(fn).getroot()\n",
    "#filename = root.find('filename')\n",
    "#img_fn =  filename.text\n",
    "#print(img_fn)\n",
    "bboxs = parse_xml(fn)\n",
    "print(bboxs)\n"
   ]
  },
  {
   "cell_type": "code",
   "execution_count": 85,
   "metadata": {},
   "outputs": [],
   "source": [
    "PATH = './JPEGImages/'\n",
    "base_images = glob.glob(PATH + '*.jpg')\n",
    "random.shuffle(base_images)\n",
    "test_len = len(base_images) * 0.15\n"
   ]
  },
  {
   "cell_type": "code",
   "execution_count": 86,
   "metadata": {},
   "outputs": [
    {
     "name": "stdout",
     "output_type": "stream",
     "text": [
      "42084\n"
     ]
    }
   ],
   "source": [
    "print(len(base_images))"
   ]
  },
  {
   "cell_type": "code",
   "execution_count": 89,
   "metadata": {},
   "outputs": [
    {
     "name": "stderr",
     "output_type": "stream",
     "text": [
      "100%|██████████| 1/1 [00:00<00:00, 90.59it/s]"
     ]
    },
    {
     "name": "stdout",
     "output_type": "stream",
     "text": [
      "processing JuiceS&WModel60(2).jpg\n",
      "ln -s /media/ubuntu/MyHDataStor2/datasets/Gun/GunData/JPEGImages/JuiceS&WModel60(2).jpg /media/ubuntu/MyHDataStor1/work/products/LPR/ultralytics_yolo3/data/Gun/images/JuiceS&WModel60(2).jpg\n"
     ]
    },
    {
     "name": "stderr",
     "output_type": "stream",
     "text": [
      "\n"
     ]
    }
   ],
   "source": [
    "test_list = []\n",
    "train_list = []\n",
    "\n",
    "base_images2 = []\n",
    "base_images2.append('./JPEGImages/JuiceS&WModel60(2).jpg')\n",
    "\n",
    "\n",
    "for idx, img in enumerate(tqdm(base_images2)):\n",
    "\n",
    "    imgname = img.split('/')[-1]\n",
    "    imgbasename = imgname.split('.')[0]\n",
    "    \n",
    "    print(\"processing {}\".format(imgname ))\n",
    "    \n",
    "    anno_fn = '../Annotations/{}.xml'.format(imgbasename)\n",
    "    annofile = '{}.txt'.format(imgbasename)\n",
    "    imgpath =  os.path.abspath(img)\n",
    "    \n",
    "    #print(anno_fn)\n",
    "    \n",
    "    labels = str(); \n",
    "    bboxs = parse_xml(anno_fn)\n",
    "    for bbox in bboxs:\n",
    "        labels = labels + '0 {} {} {} {}\\n'.format(bbox[0],bbox[1],bbox[2],bbox[3])\n",
    "    #print(labels)\n",
    "    \n",
    "    #shutil.copyfile(imgpath,'/media/ubuntu/MyHDataStor1/work/products/LPR/ultralytics_yolo3/data/Gun/images/{}'.format(imgname))\n",
    "    \n",
    "    des_fn = '/media/ubuntu/MyHDataStor1/work/products/LPR/ultralytics_yolo3/data/Gun/images/{}'.format(imgname)\n",
    "    sl_cmd = 'ln -s {} {}'.format(imgpath, des_fn)\n",
    "    print(sl_cmd)\n",
    "    os.system(sl_cmd)\n",
    "    \n",
    "    annofile = '/media/ubuntu/MyHDataStor1/work/products/LPR/ultralytics_yolo3/data/Gun/labels/'+annofile\n",
    "    fp = open(annofile, 'wt')\n",
    "    fp.write(labels)\n",
    "    fp.close() \n",
    "\n",
    "    if idx < test_len:\n",
    "        test_list.append('/media/ubuntu/MyHDataStor1/work/products/LPR/ultralytics_yolo3/data/Gun/images/{}'.format(imgname) )\n",
    "    else:\n",
    "        train_list.append('/media/ubuntu/MyHDataStor1/work/products/LPR/ultralytics_yolo3/data/Gun/images/{}'.format(imgname) )\n",
    "   \n"
   ]
  },
  {
   "cell_type": "code",
   "execution_count": 75,
   "metadata": {},
   "outputs": [],
   "source": [
    "Write_TXT('/media/ubuntu/MyHDataStor1/work/products/LPR/ultralytics_yolo3/data/Gun_train.txt', train_list)\n",
    "Write_TXT('/media/ubuntu/MyHDataStor1/work/products/LPR/ultralytics_yolo3/data/Gun_test.txt', test_list)\n"
   ]
  },
  {
   "cell_type": "code",
   "execution_count": null,
   "metadata": {},
   "outputs": [],
   "source": []
  }
 ],
 "metadata": {
  "kernelspec": {
   "display_name": "Python 3",
   "language": "python",
   "name": "python3"
  },
  "language_info": {
   "codemirror_mode": {
    "name": "ipython",
    "version": 3
   },
   "file_extension": ".py",
   "mimetype": "text/x-python",
   "name": "python",
   "nbconvert_exporter": "python",
   "pygments_lexer": "ipython3",
   "version": "3.7.6"
  }
 },
 "nbformat": 4,
 "nbformat_minor": 4
}
