{
 "cells": [
  {
   "cell_type": "code",
   "execution_count": 1,
   "metadata": {},
   "outputs": [],
   "source": [
    "import os\n",
    "import sys\n",
    "import random\n",
    "import glob\n",
    "from tqdm import tqdm\n",
    "import xml.etree.ElementTree as ET\n",
    "\n",
    "import cv2 \n",
    "import shutil\n"
   ]
  },
  {
   "cell_type": "code",
   "execution_count": 4,
   "metadata": {},
   "outputs": [],
   "source": [
    "def Write_TXT(txt_file, data_list):\n",
    "    fd  = open(txt_file, 'w')\n",
    "    for data in data_list:\n",
    "        fd.write(data)\n",
    "        fd.write('\\n')\n",
    "    fd.close()\n",
    "\n",
    "def parse_xml(xml_path):\n",
    "    root = ET.parse(fn).getroot()\n",
    "    filename = root.find('filename').text \n",
    "    width  = float(root.find('size').find('width').text)\n",
    "    height = float(root.find('size').find('height').text)\n",
    "    \n",
    "    bboxs = []\n",
    "    for obj in root.findall('object'):\n",
    "        xmin = float(obj.find('bndbox').find('xmin').text)\n",
    "        ymin = float(obj.find('bndbox').find('ymin').text)\n",
    "        xmax = float(obj.find('bndbox').find('xmax').text)\n",
    "        ymax = float(obj.find('bndbox').find('ymax').text)\n",
    "        '''\n",
    "        xc = (xmin+xmax)/2/width \n",
    "        yc = float(ymin+ymax)/2/height \n",
    "        w  = (xmax-xmin)/width\n",
    "        h = (ymax-ymin)/height\n",
    "        '''        \n",
    "        bboxs.append((xmin,ymin,xmax,ymax))\n",
    "\n",
    "    return bboxs"
   ]
  },
  {
   "cell_type": "code",
   "execution_count": 5,
   "metadata": {},
   "outputs": [
    {
     "name": "stdout",
     "output_type": "stream",
     "text": [
      "[(39.0, 33.0, 58.0, 58.0), (61.0, 32.0, 85.0, 57.0), (84.0, 29.0, 103.0, 59.0), (103.0, 31.0, 127.0, 60.0), (124.0, 33.0, 146.0, 60.0), (145.0, 28.0, 167.0, 56.0), (174.0, 29.0, 194.0, 58.0), (199.0, 25.0, 221.0, 56.0), (185.0, 55.0, 212.0, 84.0), (163.0, 58.0, 187.0, 88.0), (180.0, 104.0, 208.0, 139.0), (156.0, 109.0, 183.0, 142.0), (137.0, 108.0, 162.0, 144.0), (144.0, 56.0, 161.0, 90.0), (122.0, 58.0, 140.0, 88.0), (128.0, 83.0, 152.0, 114.0), (97.0, 58.0, 120.0, 88.0), (72.0, 56.0, 94.0, 89.0), (50.0, 62.0, 69.0, 90.0), (28.0, 64.0, 53.0, 93.0), (34.0, 90.0, 59.0, 120.0), (60.0, 89.0, 80.0, 121.0), (82.0, 88.0, 101.0, 119.0), (102.0, 84.0, 125.0, 118.0), (92.0, 116.0, 113.0, 150.0), (116.0, 116.0, 137.0, 149.0), (66.0, 120.0, 85.0, 153.0), (44.0, 124.0, 63.0, 155.0), (22.0, 125.0, 40.0, 158.0)]\n"
     ]
    }
   ],
   "source": [
    "fn = './detector/gun/Train/Annotations/ia_100000004463.xml'\n",
    "bboxs = parse_xml(fn)\n",
    "print(bboxs)"
   ]
  },
  {
   "cell_type": "code",
   "execution_count": 6,
   "metadata": {},
   "outputs": [
    {
     "name": "stdout",
     "output_type": "stream",
     "text": [
      "44753\n"
     ]
    }
   ],
   "source": [
    "TRAIN_PATH = './detector/gun/Train/JPEGImages/'\n",
    "base_images = glob.glob(TRAIN_PATH + '*.jpg')\n",
    "random.shuffle(base_images)\n",
    "print(len(base_images))\n"
   ]
  },
  {
   "cell_type": "code",
   "execution_count": 75,
   "metadata": {},
   "outputs": [],
   "source": [
    "for idx, img in enumerate(tqdm(base_images)):\n",
    "\n",
    "    imgname = img.split('/')[-1]\n",
    "    imgbasename = imgname.split('.')[0]\n",
    "    \n",
    "    print(\"processing {}\".format(imgname ))\n",
    "    \n",
    "    anno_fn = '../Annotations/{}.xml'.format(imgbasename)\n",
    "    annofile = '{}.txt'.format(imgbasename)\n",
    "    imgpath =  os.path.abspath(img)\n",
    "    \n",
    "    #print(anno_fn)\n",
    "    \n",
    "    labels = str(); \n",
    "    bboxs = parse_xml(anno_fn)\n",
    "    for bbox in bboxs:\n",
    "        labels = labels + '0 {} {} {} {}\\n'.format(bbox[0],bbox[1],bbox[2],bbox[3])\n",
    "    #print(labels)\n",
    "    \n",
    "    #shutil.copyfile(imgpath,'/media/ubuntu/MyHDataStor1/work/products/LPR/ultralytics_yolo3/data/Gun/images/{}'.format(imgname))\n",
    "    \n",
    "    des_fn = '/media/ubuntu/MyHDataStor1/work/data/Gun/images/{}'.format(imgname)\n",
    "    sl_cmd = 'ln -s {} {}'.format(imgpath, des_fn)\n",
    "    print(sl_cmd)\n",
    "    os.system(sl_cmd)\n",
    "    \n",
    "    annofile = '/media/ubuntu/MyHDataStor1/work/data/Gun/labels/'+annofile\n",
    "    fp = open(annofile, 'wt')\n",
    "    fp.write(labels)\n",
    "    fp.close() \n",
    "\n",
    "    train_list.append('/media/ubuntu/MyHDataStor1/work/data/Gun/images/{}'.format(imgname) )"
   ]
  },
  {
   "cell_type": "code",
   "execution_count": null,
   "metadata": {},
   "outputs": [],
   "source": []
  }
 ],
 "metadata": {
  "kernelspec": {
   "display_name": "Python 3",
   "language": "python",
   "name": "python3"
  },
  "language_info": {
   "codemirror_mode": {
    "name": "ipython",
    "version": 3
   },
   "file_extension": ".py",
   "mimetype": "text/x-python",
   "name": "python",
   "nbconvert_exporter": "python",
   "pygments_lexer": "ipython3",
   "version": "3.7.6"
  }
 },
 "nbformat": 4,
 "nbformat_minor": 4
}
